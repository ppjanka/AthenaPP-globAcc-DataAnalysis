{
 "cells": [
  {
   "cell_type": "code",
   "execution_count": 1,
   "metadata": {},
   "outputs": [],
   "source": [
    "import os\n",
    "\n",
    "import numpy as np\n",
    "import pickle as pkl\n",
    "\n",
    "import matplotlib\n",
    "matplotlib.use('Agg')\n",
    "import matplotlib.pyplot as plt\n",
    "import matplotlib.gridspec as gridspec\n",
    "\n",
    "exec(open(\"./diagnostics_header.py\").read())\n",
    "import diagnostics_ops as diops\n",
    "import diagnostics_vars as divars\n",
    "import diagnostics_vis as divis\n",
    "\n",
    "integration_x2min = 0. #disk_x2min\n",
    "integration_x2max = np.pi #disk_x2max\n"
   ]
  },
  {
   "cell_type": "code",
   "execution_count": null,
   "metadata": {},
   "outputs": [],
   "source": [
    "import sys\n",
    "if len(sys.argv) < 2: # if run interactively\n",
    "    supfolder = 'M25'\n",
    "else: # otherwise use the command line arguments\n",
    "    supfolder = sys.argv[1]\n",
    "    if '-navg' in sys.argv: # number of frames for boxcar averaging\n",
    "        frames_to_avg = int(sys.argv[sys.argv.index('-navg')+1])"
   ]
  },
  {
   "cell_type": "code",
   "execution_count": 2,
   "metadata": {},
   "outputs": [
    {
     "name": "stdout",
     "output_type": "stream",
     "text": [
      "Running on RAZER.\n"
     ]
    }
   ],
   "source": [
    "# check which machine we're running on, set up threading and path to the data folder(s)\n",
    "import socket\n",
    "machine = socket.gethostname()\n",
    "if machine[:7] == 'perseus':\n",
    "    machine = 'PERSEUS'\n",
    "    nproc = 16\n",
    "    data_pathstem = '/home/ppjanka/tigress_pp/THESIS/%s/' % supfolder\n",
    "elif machine[:11] == 'tigressdata':\n",
    "    machine = 'TIGRESSDATA'\n",
    "    nproc = 4\n",
    "    data_pathstem = '/home/ppjanka/tigress_pp/THESIS/%s/' % supfolder\n",
    "elif machine == 'ppjanka-razer':\n",
    "    machine = 'RAZER'\n",
    "    nproc = 2\n",
    "    data_pathstem = '/DATA/Dropbox/LOOTRPV/Princeton_PhD/Thesis/globAccDisk/athena/bin-mhd/%s/' % supfolder\n",
    "    \n",
    "print('Running on %s.' % (machine,))\n",
    "\n",
    "# what folders within data_pathstem store the athdf files\n",
    "data_folders = ['R4','R5']\n",
    "\n",
    "# ----------\n",
    "import glob\n",
    "\n",
    "# find all the athdf files\n",
    "athdf_files = []\n",
    "for data_folder in data_folders:\n",
    "    athdf_files += glob.glob(data_pathstem + data_folder + '/*out2*.athdf')\n",
    "athdf_files = sorted(athdf_files)"
   ]
  },
  {
   "cell_type": "code",
   "execution_count": 3,
   "metadata": {},
   "outputs": [],
   "source": [
    "if False:\n",
    "    # setup the figure\n",
    "    fig = plt.figure(figsize=(10,15))\n",
    "    gs = gridspec.GridSpec(3,1)\n",
    "\n",
    "# prepare the dictionary to be pickled for reuse\n",
    "output = {}\n",
    "\n",
    "# open the last run's data if available\n",
    "old_data = None\n",
    "if os.path.isfile(data_pathstem + 'TSeries.pkl'):\n",
    "    with open(data_pathstem + 'TSeries.pkl', 'rb') as f:\n",
    "        old_data = pkl.load(f)"
   ]
  },
  {
   "cell_type": "code",
   "execution_count": 4,
   "metadata": {},
   "outputs": [
    {
     "name": "stderr",
     "output_type": "stream",
     "text": [
      "100%|██████████| 47/47 [00:06<00:00,  6.21it/s]\n",
      "100%|██████████| 47/47 [00:06<00:00,  6.00it/s]\n",
      "100%|██████████| 47/47 [00:04<00:00,  9.06it/s]\n"
     ]
    }
   ],
   "source": [
    "if True:\n",
    "    # Mdot(t)\n",
    "    vars_obj = divars.Mdot()\n",
    "    #ax = plt.subplot(gs[0,0])\n",
    "    output['mdot'] = {}\n",
    "    for radius in [0.5, 0.06, 0.08, 0.1, 0.12, 0.15, 0.18, 0.21, 0.24, 0.27, 0.3]:\n",
    "        if old_data != None:\n",
    "            old_data_here = old_data['mdot'][radius]\n",
    "        else:\n",
    "            old_data_here = None\n",
    "        ops_obj = diops.TSeries_SphSlice(vars_object=vars_obj, r=radius, x2min=integration_x2min, x2max=integration_x2max, type='sum')\n",
    "        ops_obj.read(athdf_files, old_data=old_data_here)\n",
    "        output['mdot'][radius] = ops_obj.data\n",
    "        #_ = ops_obj.plot(fig, ax=ax, log_scale=True, title='auto', kwargs={'label':('r = %.2f sim.u.' % radius)}, vmin=1.0e-5, boxcar_smooth=frames_to_avg)\n",
    "        with open(data_pathstem + 'TSeries.pkl', 'wb') as f:\n",
    "            pkl.dump(output, f)\n",
    "        del ops_obj\n",
    "    #ax.legend()\n",
    "    del vars_obj"
   ]
  },
  {
   "cell_type": "code",
   "execution_count": null,
   "metadata": {},
   "outputs": [],
   "source": [
    "# prepare the dictionary to be pickled for reuse\n",
    "output = {}\n",
    "\n",
    "# open the last run's data if available\n",
    "old_data = None\n",
    "if os.path.isfile(data_pathstem + 'TSeries_noFloor.pkl'):\n",
    "    with open(data_pathstem + 'TSeries_noFloor.pkl', 'rb') as f:\n",
    "        old_data = pkl.load(f)"
   ]
  },
  {
   "cell_type": "code",
   "execution_count": null,
   "metadata": {},
   "outputs": [],
   "source": [
    "if False:\n",
    "    # Mdot(t) ignoring the floor\n",
    "    vars_obj = divars.Mdot(rho_crit=0.01, vel_crit=-0.4, ignore_floor=True)\n",
    "    #ax = plt.subplot(gs[0,0])\n",
    "    output['mdot'] = {}\n",
    "    for radius in [0.5, 0.06, 0.08, 0.1, 0.125, 0.15, 0.175, 0.2, 0.3, 0.4]:\n",
    "        if old_data != None:\n",
    "            old_data_here = old_data['mdot'][radius]\n",
    "        else:\n",
    "            old_data_here = None\n",
    "        ops_obj = diops.TSeries_SphSlice(vars_object=vars_obj, r=radius, x2min=integration_x2min, x2max=integration_x2max, type='sum')\n",
    "        ops_obj.read(athdf_files, old_data=old_data_here)\n",
    "        output['mdot'][radius] = ops_obj.data\n",
    "        #_ = ops_obj.plot(fig, ax=ax, log_scale=True, title='auto', kwargs={'label':('r = %.2f sim.u.' % radius)}, vmin=1.0e-5, boxcar_smooth=frames_to_avg)\n",
    "        del ops_obj\n",
    "        with open(data_pathstem + 'TSeries_noFloor.pkl', 'wb') as f:\n",
    "            pkl.dump(output, f)\n",
    "    #ax.legend()\n",
    "    del vars_obj"
   ]
  },
  {
   "cell_type": "code",
   "execution_count": 5,
   "metadata": {},
   "outputs": [
    {
     "name": "stderr",
     "output_type": "stream",
     "text": [
      "100%|██████████| 47/47 [01:25<00:00,  2.12s/it]\n"
     ]
    }
   ],
   "source": [
    "if False:\n",
    "    # Reynolds stress (t)\n",
    "    vars_obj = divars.StressReynolds()\n",
    "    ax = plt.subplot(gs[1,0])\n",
    "    ops_obj = diops.TSeries_Total(vars_object=vars_obj, x2min=integration_x2min, x2max=integration_x2max)\n",
    "    if old_data != None:\n",
    "        old_data_here = old_data['stress_Reynolds']\n",
    "    else:\n",
    "        old_data_here = None\n",
    "    ops_obj.read(athdf_files, old_data=old_data_here)\n",
    "    output['stress_Reynolds'] = ops_obj.data\n",
    "    _ = ops_obj.plot(fig, ax=ax, log_scale=False, title='auto')\n",
    "    del ops_obj, vars_obj"
   ]
  },
  {
   "cell_type": "code",
   "execution_count": 6,
   "metadata": {},
   "outputs": [
    {
     "name": "stderr",
     "output_type": "stream",
     "text": [
      "100%|██████████| 47/47 [00:58<00:00,  1.44s/it]\n"
     ]
    }
   ],
   "source": [
    "if False:\n",
    "    # Maxwell stress (t)\n",
    "    vars_obj = divars.StressMaxwell()\n",
    "    ax = plt.subplot(gs[2,0])\n",
    "    ops_obj = diops.TSeries_Total(vars_object=vars_obj, x2min=integration_x2min, x2max=integration_x2max)\n",
    "    if old_data != None:\n",
    "        old_data_here = old_data['stress_Maxwell']\n",
    "    else:\n",
    "        old_data_here = None\n",
    "    ops_obj.read(athdf_files, old_data=old_data_here)\n",
    "    output['stress_Maxwell'] = ops_obj.data\n",
    "    _ = ops_obj.plot(fig, ax=ax, log_scale=False, title='auto')\n",
    "    del ops_obj, vars_obj"
   ]
  },
  {
   "cell_type": "code",
   "execution_count": null,
   "metadata": {},
   "outputs": [],
   "source": []
  }
 ],
 "metadata": {
  "kernelspec": {
   "display_name": "Python 3",
   "language": "python",
   "name": "python3"
  },
  "language_info": {
   "codemirror_mode": {
    "name": "ipython",
    "version": 3
   },
   "file_extension": ".py",
   "mimetype": "text/x-python",
   "name": "python",
   "nbconvert_exporter": "python",
   "pygments_lexer": "ipython3",
   "version": "3.7.1"
  }
 },
 "nbformat": 4,
 "nbformat_minor": 2
}
