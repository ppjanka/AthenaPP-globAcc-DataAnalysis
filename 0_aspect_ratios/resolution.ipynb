{
 "cells": [
  {
   "cell_type": "markdown",
   "metadata": {},
   "source": [
    "This is a script to investigate how well the local thermal scale height and MRI maximally unstable wavelength is resolved in a given simulation.\n",
    "\n",
    " - Note: this script requires a .csv output from aspect_ratios, as well as several .pkl output files from diagnostics_steady.ipynb. These need to be run beforehand."
   ]
  },
  {
   "cell_type": "code",
   "execution_count": 39,
   "metadata": {},
   "outputs": [],
   "source": [
    "import numpy as np\n",
    "import pandas as pd\n",
    "import pickle as pkl\n",
    "import matplotlib.pyplot as plt\n",
    "\n",
    "mach_no = 10\n",
    "GM1 = 0.7692307692307692\n",
    "rmin = 0.05\n",
    "\n",
    "dataset_pathstem = {5.:'/DATA/Dropbox/LOOTRPV/Princeton_PhD/Thesis/globAccDisk/athena/bin-mhd/M5/R4_32_dfloor1e-6_vfloorRho1e-5/', 10.:'/DATA/Dropbox/LOOTRPV/Princeton_PhD/Thesis/globAccDisk/athena/bin-mhd/M10_noInfl/R5_4b_lowDfloor/R5_dfloor1e-6_vfloorRho1e-5/'}"
   ]
  },
  {
   "cell_type": "code",
   "execution_count": 40,
   "metadata": {},
   "outputs": [
    {
     "name": "stderr",
     "output_type": "stream",
     "text": [
      "/home/ppjanka/anaconda3/envs/globAcc/lib/python3.7/site-packages/ipykernel_launcher.py:1: ParserWarning: Falling back to the 'python' engine because the 'c' engine does not support regex separators (separators > 1 char and different from '\\s+' are interpreted as regex); you can avoid this warning by specifying engine='python'.\n",
      "  \"\"\"Entry point for launching an IPython kernel.\n"
     ]
    }
   ],
   "source": [
    "df = pd.read_csv(\"aspect_ratios/aspect_ratios_M%i.csv\" % mach_no, sep='\\s*,\\s*').drop_duplicates(inplace=False)\n",
    "\n",
    "midplane_mask = (np.abs(df.x2f-0.5*np.pi) < 0.5/mach_no) & (df.x1f < 0.25) & (df.x1f > 0.1)\n",
    "df = df[midplane_mask]"
   ]
  },
  {
   "cell_type": "code",
   "execution_count": 41,
   "metadata": {},
   "outputs": [
    {
     "data": {
      "text/html": [
       "<div>\n",
       "<style scoped>\n",
       "    .dataframe tbody tr th:only-of-type {\n",
       "        vertical-align: middle;\n",
       "    }\n",
       "\n",
       "    .dataframe tbody tr th {\n",
       "        vertical-align: top;\n",
       "    }\n",
       "\n",
       "    .dataframe thead th {\n",
       "        text-align: right;\n",
       "    }\n",
       "</style>\n",
       "<table border=\"1\" class=\"dataframe\">\n",
       "  <thead>\n",
       "    <tr style=\"text-align: right;\">\n",
       "      <th></th>\n",
       "      <th>x1f</th>\n",
       "      <th>x2f</th>\n",
       "      <th>x3f</th>\n",
       "      <th>dx1</th>\n",
       "      <th>dx2</th>\n",
       "      <th>dx3</th>\n",
       "      <th>dx1/dx2</th>\n",
       "      <th>dx2/dx3</th>\n",
       "      <th>dx3/dx1</th>\n",
       "      <th>dt1</th>\n",
       "      <th>...</th>\n",
       "      <th>dtms</th>\n",
       "      <th>dt</th>\n",
       "      <th>vel1</th>\n",
       "      <th>vel2</th>\n",
       "      <th>vel3</th>\n",
       "      <th>bcc1</th>\n",
       "      <th>bcc2</th>\n",
       "      <th>bcc3</th>\n",
       "      <th>valfven</th>\n",
       "      <th>rho</th>\n",
       "    </tr>\n",
       "  </thead>\n",
       "  <tbody>\n",
       "    <tr>\n",
       "      <td>83303</td>\n",
       "      <td>0.100377</td>\n",
       "      <td>1.524777</td>\n",
       "      <td>0.006136</td>\n",
       "      <td>0.000469</td>\n",
       "      <td>0.000616</td>\n",
       "      <td>0.001231</td>\n",
       "      <td>0.761321</td>\n",
       "      <td>0.500531</td>\n",
       "      <td>2.624225</td>\n",
       "      <td>0.004776</td>\n",
       "      <td>...</td>\n",
       "      <td>0.001582</td>\n",
       "      <td>0.000465</td>\n",
       "      <td>0.098172</td>\n",
       "      <td>0.012700</td>\n",
       "      <td>2.646426</td>\n",
       "      <td>0.002832</td>\n",
       "      <td>0.006621</td>\n",
       "      <td>0.054724</td>\n",
       "      <td>0.041087</td>\n",
       "      <td>1.804723</td>\n",
       "    </tr>\n",
       "    <tr>\n",
       "      <td>83304</td>\n",
       "      <td>0.100847</td>\n",
       "      <td>1.524777</td>\n",
       "      <td>0.006136</td>\n",
       "      <td>0.000472</td>\n",
       "      <td>0.000619</td>\n",
       "      <td>0.001236</td>\n",
       "      <td>0.762285</td>\n",
       "      <td>0.500531</td>\n",
       "      <td>2.620904</td>\n",
       "      <td>0.004718</td>\n",
       "      <td>...</td>\n",
       "      <td>0.001597</td>\n",
       "      <td>0.000467</td>\n",
       "      <td>0.099985</td>\n",
       "      <td>0.005812</td>\n",
       "      <td>2.644749</td>\n",
       "      <td>0.001459</td>\n",
       "      <td>0.006885</td>\n",
       "      <td>0.040825</td>\n",
       "      <td>0.031087</td>\n",
       "      <td>1.775910</td>\n",
       "    </tr>\n",
       "    <tr>\n",
       "      <td>83305</td>\n",
       "      <td>0.101320</td>\n",
       "      <td>1.524777</td>\n",
       "      <td>0.006136</td>\n",
       "      <td>0.000475</td>\n",
       "      <td>0.000622</td>\n",
       "      <td>0.001242</td>\n",
       "      <td>0.763268</td>\n",
       "      <td>0.500531</td>\n",
       "      <td>2.617530</td>\n",
       "      <td>0.004686</td>\n",
       "      <td>...</td>\n",
       "      <td>0.001608</td>\n",
       "      <td>0.000470</td>\n",
       "      <td>0.101258</td>\n",
       "      <td>0.002429</td>\n",
       "      <td>2.642381</td>\n",
       "      <td>0.000399</td>\n",
       "      <td>0.006376</td>\n",
       "      <td>0.023149</td>\n",
       "      <td>0.018186</td>\n",
       "      <td>1.743541</td>\n",
       "    </tr>\n",
       "    <tr>\n",
       "      <td>83306</td>\n",
       "      <td>0.101796</td>\n",
       "      <td>1.524777</td>\n",
       "      <td>0.006136</td>\n",
       "      <td>0.000477</td>\n",
       "      <td>0.000625</td>\n",
       "      <td>0.001248</td>\n",
       "      <td>0.764244</td>\n",
       "      <td>0.500531</td>\n",
       "      <td>2.614187</td>\n",
       "      <td>0.004677</td>\n",
       "      <td>...</td>\n",
       "      <td>0.001620</td>\n",
       "      <td>0.000473</td>\n",
       "      <td>0.102055</td>\n",
       "      <td>0.003043</td>\n",
       "      <td>2.637280</td>\n",
       "      <td>0.000290</td>\n",
       "      <td>0.004264</td>\n",
       "      <td>0.005222</td>\n",
       "      <td>0.005138</td>\n",
       "      <td>1.725187</td>\n",
       "    </tr>\n",
       "    <tr>\n",
       "      <td>83310</td>\n",
       "      <td>0.100377</td>\n",
       "      <td>1.530913</td>\n",
       "      <td>0.006136</td>\n",
       "      <td>0.000469</td>\n",
       "      <td>0.000616</td>\n",
       "      <td>0.001231</td>\n",
       "      <td>0.761321</td>\n",
       "      <td>0.500399</td>\n",
       "      <td>2.624917</td>\n",
       "      <td>0.004821</td>\n",
       "      <td>...</td>\n",
       "      <td>0.001588</td>\n",
       "      <td>0.000465</td>\n",
       "      <td>0.097271</td>\n",
       "      <td>0.011631</td>\n",
       "      <td>2.645027</td>\n",
       "      <td>0.001136</td>\n",
       "      <td>0.006305</td>\n",
       "      <td>0.039985</td>\n",
       "      <td>0.029678</td>\n",
       "      <td>1.861828</td>\n",
       "    </tr>\n",
       "  </tbody>\n",
       "</table>\n",
       "<p>5 rows × 26 columns</p>\n",
       "</div>"
      ],
      "text/plain": [
       "            x1f       x2f       x3f       dx1       dx2       dx3   dx1/dx2  \\\n",
       "83303  0.100377  1.524777  0.006136  0.000469  0.000616  0.001231  0.761321   \n",
       "83304  0.100847  1.524777  0.006136  0.000472  0.000619  0.001236  0.762285   \n",
       "83305  0.101320  1.524777  0.006136  0.000475  0.000622  0.001242  0.763268   \n",
       "83306  0.101796  1.524777  0.006136  0.000477  0.000625  0.001248  0.764244   \n",
       "83310  0.100377  1.530913  0.006136  0.000469  0.000616  0.001231  0.761321   \n",
       "\n",
       "        dx2/dx3   dx3/dx1       dt1  ...      dtms        dt      vel1  \\\n",
       "83303  0.500531  2.624225  0.004776  ...  0.001582  0.000465  0.098172   \n",
       "83304  0.500531  2.620904  0.004718  ...  0.001597  0.000467  0.099985   \n",
       "83305  0.500531  2.617530  0.004686  ...  0.001608  0.000470  0.101258   \n",
       "83306  0.500531  2.614187  0.004677  ...  0.001620  0.000473  0.102055   \n",
       "83310  0.500399  2.624917  0.004821  ...  0.001588  0.000465  0.097271   \n",
       "\n",
       "           vel2      vel3      bcc1      bcc2      bcc3   valfven       rho  \n",
       "83303  0.012700  2.646426  0.002832  0.006621  0.054724  0.041087  1.804723  \n",
       "83304  0.005812  2.644749  0.001459  0.006885  0.040825  0.031087  1.775910  \n",
       "83305  0.002429  2.642381  0.000399  0.006376  0.023149  0.018186  1.743541  \n",
       "83306  0.003043  2.637280  0.000290  0.004264  0.005222  0.005138  1.725187  \n",
       "83310  0.011631  2.645027  0.001136  0.006305  0.039985  0.029678  1.861828  \n",
       "\n",
       "[5 rows x 26 columns]"
      ]
     },
     "execution_count": 41,
     "metadata": {},
     "output_type": "execute_result"
    }
   ],
   "source": [
    "df.head()"
   ]
  },
  {
   "cell_type": "code",
   "execution_count": 52,
   "metadata": {},
   "outputs": [],
   "source": [
    "def csound_locisoth (r, theta):\n",
    "    return (r*np.sin(theta)/rmin)**(-3./8.) * np.sqrt(GM1/rmin)/mach_no\n",
    "def g_grav (r, theta):\n",
    "    return GM1*np.cos(theta)/r**2\n",
    "def omega_local (r, theta):\n",
    "    return np.sqrt(GM1/(r*np.sin(theta))**3)\n",
    "def scale_height (r, theta):\n",
    "    return np.sqrt(2.)*csound_locisoth(r,theta) / omega_local(r, theta)"
   ]
  },
  {
   "cell_type": "code",
   "execution_count": 53,
   "metadata": {},
   "outputs": [],
   "source": [
    "df['H'] = scale_height(df['x1f'], df['x2f'])\n",
    "df['resH1'] = df.H / df.dx1\n",
    "df['resH2'] = df.H / df.dx2\n",
    "df['resH3'] = df.H / df.dx3"
   ]
  },
  {
   "cell_type": "code",
   "execution_count": 54,
   "metadata": {},
   "outputs": [
    {
     "data": {
      "text/plain": [
       "count    70336.000000\n",
       "mean        26.582909\n",
       "std          0.880835\n",
       "min         25.115915\n",
       "25%         25.817458\n",
       "50%         26.546851\n",
       "75%         27.342718\n",
       "max         28.169560\n",
       "Name: resH2, dtype: float64"
      ]
     },
     "execution_count": 54,
     "metadata": {},
     "output_type": "execute_result"
    }
   ],
   "source": [
    "df.resH2[midplane_mask].describe()"
   ]
  },
  {
   "cell_type": "code",
   "execution_count": null,
   "metadata": {},
   "outputs": [],
   "source": [
    "resH2 = df.resH2[midplane_mask]\n",
    "\n",
    "fig = plt.figure()\n",
    "plt.hist(resH2, bins=100)\n",
    "plt.gca().set_xscale('log')\n",
    "plt.show()\n",
    "plt.close()"
   ]
  },
  {
   "cell_type": "code",
   "execution_count": 8,
   "metadata": {},
   "outputs": [],
   "source": [
    "def lambda_mri (valfven, omega): # see Wendy's phd, Hawley 2013\n",
    "    return 2.*np.pi*np.sqrt(16./15.)*valfven/omega"
   ]
  },
  {
   "cell_type": "code",
   "execution_count": 9,
   "metadata": {},
   "outputs": [
    {
     "name": "stderr",
     "output_type": "stream",
     "text": [
      "/home/ppjanka/anaconda3/envs/globAcc/lib/python3.7/site-packages/ipykernel_launcher.py:3: UserWarning: Boolean Series key will be reindexed to match DataFrame index.\n",
      "  This is separate from the ipykernel package so we can avoid doing imports until\n"
     ]
    },
    {
     "data": {
      "text/html": [
       "<div>\n",
       "<style scoped>\n",
       "    .dataframe tbody tr th:only-of-type {\n",
       "        vertical-align: middle;\n",
       "    }\n",
       "\n",
       "    .dataframe tbody tr th {\n",
       "        vertical-align: top;\n",
       "    }\n",
       "\n",
       "    .dataframe thead th {\n",
       "        text-align: right;\n",
       "    }\n",
       "</style>\n",
       "<table border=\"1\" class=\"dataframe\">\n",
       "  <thead>\n",
       "    <tr style=\"text-align: right;\">\n",
       "      <th></th>\n",
       "      <th>x1f</th>\n",
       "      <th>valfven</th>\n",
       "      <th>lambda_mri</th>\n",
       "    </tr>\n",
       "  </thead>\n",
       "  <tbody>\n",
       "    <tr>\n",
       "      <td>0</td>\n",
       "      <td>0.100377</td>\n",
       "      <td>0.033615</td>\n",
       "      <td>0.007910</td>\n",
       "    </tr>\n",
       "    <tr>\n",
       "      <td>1</td>\n",
       "      <td>0.100847</td>\n",
       "      <td>0.033140</td>\n",
       "      <td>0.007853</td>\n",
       "    </tr>\n",
       "    <tr>\n",
       "      <td>2</td>\n",
       "      <td>0.101320</td>\n",
       "      <td>0.032460</td>\n",
       "      <td>0.007746</td>\n",
       "    </tr>\n",
       "    <tr>\n",
       "      <td>3</td>\n",
       "      <td>0.101796</td>\n",
       "      <td>0.031639</td>\n",
       "      <td>0.007603</td>\n",
       "    </tr>\n",
       "    <tr>\n",
       "      <td>4</td>\n",
       "      <td>0.102757</td>\n",
       "      <td>0.030600</td>\n",
       "      <td>0.007458</td>\n",
       "    </tr>\n",
       "  </tbody>\n",
       "</table>\n",
       "</div>"
      ],
      "text/plain": [
       "        x1f   valfven  lambda_mri\n",
       "0  0.100377  0.033615    0.007910\n",
       "1  0.100847  0.033140    0.007853\n",
       "2  0.101320  0.032460    0.007746\n",
       "3  0.101796  0.031639    0.007603\n",
       "4  0.102757  0.030600    0.007458"
      ]
     },
     "execution_count": 9,
     "metadata": {},
     "output_type": "execute_result"
    }
   ],
   "source": [
    "df['vaz'] = df.bcc2 / np.sqrt(df.rho)\n",
    "\n",
    "avg = df[midplane_mask][['valfven', 'x1f']].groupby('x1f').mean().reset_index()\n",
    "\n",
    "avg['lambda_mri'] = lambda_mri(avg.valfven, np.sqrt(GM1/avg.x1f**3))\n",
    "\n",
    "avg.head()"
   ]
  },
  {
   "cell_type": "code",
   "execution_count": 55,
   "metadata": {},
   "outputs": [
    {
     "name": "stdout",
     "output_type": "stream",
     "text": [
      "        x1f   valfven  lambda_mri       va1  lambda_mri1       va2  \\\n",
      "0  0.050085  0.063679    0.005281  0.009216     0.000764  0.006739   \n",
      "1  0.050255  0.063704    0.005310  0.009250     0.000771  0.006741   \n",
      "2  0.050425  0.063756    0.005341  0.009293     0.000779  0.006750   \n",
      "3  0.050597  0.063730    0.005367  0.009267     0.000780  0.006725   \n",
      "4  0.050770  0.063798    0.005400  0.009328     0.000790  0.006726   \n",
      "\n",
      "   lambda_mri2       va3  lambda_mri3  \n",
      "0     0.000559  0.060992     0.005058  \n",
      "1     0.000562  0.060990     0.005084  \n",
      "2     0.000566  0.061022     0.005112  \n",
      "3     0.000566  0.061029     0.005139  \n",
      "4     0.000569  0.061070     0.005169  \n"
     ]
    },
    {
     "data": {
      "image/png": "[encoded data removed]",
      "text/plain": [
       "<Figure size 432x288 with 1 Axes>"
      ]
     },
     "metadata": {
      "needs_background": "light"
     },
     "output_type": "display_data"
    }
   ],
   "source": [
    "# use time-average of bfield\n",
    "with open(dataset_pathstem[mach_no] + 'steady_bfield3D.pkl', 'rb') as f:\n",
    "    data3D_bfield = pkl.load(f)\n",
    "with open(dataset_pathstem[mach_no] + 'steady_absBcc13D.pkl', 'rb') as f:\n",
    "    data3D_bcc1 = pkl.load(f)\n",
    "with open(dataset_pathstem[mach_no] + 'steady_absBcc23D.pkl', 'rb') as f:\n",
    "    data3D_bcc2 = pkl.load(f)\n",
    "with open(dataset_pathstem[mach_no] + 'steady_absBcc33D.pkl', 'rb') as f:\n",
    "    data3D_bcc3 = pkl.load(f)\n",
    "with open(dataset_pathstem[mach_no] + 'steady_rho3D.pkl', 'rb') as f:\n",
    "    data3D_rho = pkl.load(f)\n",
    "\n",
    "phi, theta, r = data3D_bfield.phi, data3D_bfield.theta, data3D_bfield.r\n",
    "phi, theta, r = np.meshgrid(phi, theta, r, indexing='ij')\n",
    "    \n",
    "midplane_mask3D = (np.abs(theta-0.5*np.pi) < 0.5/mach_no)\n",
    "\n",
    "bfield_avg = np.ma.array(data3D_bfield.val, mask=np.invert(midplane_mask3D))\n",
    "bcc1_avg = np.ma.array(data3D_bcc1.val, mask=np.invert(midplane_mask3D))\n",
    "bcc2_avg = np.ma.array(data3D_bcc2.val, mask=np.invert(midplane_mask3D))\n",
    "bcc3_avg = np.ma.array(data3D_bcc3.val, mask=np.invert(midplane_mask3D))\n",
    "rho_avg = np.ma.array(data3D_rho.val, mask=np.invert(midplane_mask3D))\n",
    "\n",
    "bfield_avg = np.mean(bfield_avg, axis=(0,1))\n",
    "bcc1_avg = np.mean(bcc1_avg, axis=(0,1))\n",
    "bcc2_avg = np.mean(bcc2_avg, axis=(0,1))\n",
    "bcc3_avg = np.mean(bcc3_avg, axis=(0,1))\n",
    "rho_avg = np.mean(data3D_rho.val, axis=(0,1))\n",
    "r_avg = np.mean(r, axis=(0,1))\n",
    "\n",
    "valfven_avg = bfield_avg / np.sqrt(rho_avg)\n",
    "va1_avg = np.abs(bcc1_avg / np.sqrt(rho_avg))\n",
    "va2_avg = np.abs(bcc2_avg / np.sqrt(rho_avg))\n",
    "va3_avg = np.abs(bcc3_avg / np.sqrt(rho_avg))\n",
    "omega_local = np.sqrt(GM1/r_avg**3)\n",
    "lambda_mri = 2.*np.pi*np.sqrt(16./15.)*valfven_avg / omega_local\n",
    "lambda_mri1 = 2.*np.pi*np.sqrt(16./15.)*va1_avg / omega_local\n",
    "lambda_mri2 = 2.*np.pi*np.sqrt(16./15.)*va2_avg / omega_local\n",
    "lambda_mri3 = 2.*np.pi*np.sqrt(16./15.)*va3_avg / omega_local\n",
    "\n",
    "avg = pd.DataFrame(np.array([r_avg, valfven_avg, lambda_mri, va1_avg, lambda_mri1, va2_avg, lambda_mri2, va3_avg, lambda_mri3]).transpose(), columns=['x1f', 'valfven', 'lambda_mri', 'va1', 'lambda_mri1', 'va2', 'lambda_mri2', 'va3', 'lambda_mri3'])\n",
    "print(avg.head())\n",
    "\n",
    "plt.clf()\n",
    "plt.scatter(r_avg, lambda_mri, label='all')\n",
    "plt.scatter(r_avg, lambda_mri1, label='1')\n",
    "plt.scatter(r_avg, lambda_mri2, label='2')\n",
    "plt.scatter(r_avg, lambda_mri2, label='3')\n",
    "#plt.gca().set_yscale('log')\n",
    "#plt.ylim(1.0e-7, 1.)\n",
    "plt.legend()\n",
    "plt.show()\n",
    "plt.close()"
   ]
  },
  {
   "cell_type": "code",
   "execution_count": 56,
   "metadata": {},
   "outputs": [],
   "source": [
    "def resMRI (x, avg_df):\n",
    "    result = []\n",
    "    for i in [1,2,3]:\n",
    "        lambda_mri = avg_df[np.abs(avg_df.x1f - x.x1f) < 1.0e-5]['lambda_mri%i'%i].iloc[0]\n",
    "        result.append(lambda_mri / x['dx%i'%i])\n",
    "    return pd.Series(result, index=['resMRI1','resMRI2','resMRI3'])"
   ]
  },
  {
   "cell_type": "code",
   "execution_count": 57,
   "metadata": {},
   "outputs": [],
   "source": [
    "mri = df.apply(lambda x : resMRI(x, avg), axis=1)"
   ]
  },
  {
   "cell_type": "code",
   "execution_count": 58,
   "metadata": {},
   "outputs": [
    {
     "data": {
      "text/html": [
       "<div>\n",
       "<style scoped>\n",
       "    .dataframe tbody tr th:only-of-type {\n",
       "        vertical-align: middle;\n",
       "    }\n",
       "\n",
       "    .dataframe tbody tr th {\n",
       "        vertical-align: top;\n",
       "    }\n",
       "\n",
       "    .dataframe thead th {\n",
       "        text-align: right;\n",
       "    }\n",
       "</style>\n",
       "<table border=\"1\" class=\"dataframe\">\n",
       "  <thead>\n",
       "    <tr style=\"text-align: right;\">\n",
       "      <th></th>\n",
       "      <th>resMRI1</th>\n",
       "      <th>resMRI2</th>\n",
       "      <th>resMRI3</th>\n",
       "    </tr>\n",
       "  </thead>\n",
       "  <tbody>\n",
       "    <tr>\n",
       "      <td>count</td>\n",
       "      <td>70336.000000</td>\n",
       "      <td>70336.000000</td>\n",
       "      <td>70336.000000</td>\n",
       "    </tr>\n",
       "    <tr>\n",
       "      <td>mean</td>\n",
       "      <td>5.391402</td>\n",
       "      <td>3.107436</td>\n",
       "      <td>15.002358</td>\n",
       "    </tr>\n",
       "    <tr>\n",
       "      <td>std</td>\n",
       "      <td>0.355670</td>\n",
       "      <td>0.381714</td>\n",
       "      <td>2.088899</td>\n",
       "    </tr>\n",
       "    <tr>\n",
       "      <td>min</td>\n",
       "      <td>4.784555</td>\n",
       "      <td>2.517619</td>\n",
       "      <td>11.604862</td>\n",
       "    </tr>\n",
       "    <tr>\n",
       "      <td>25%</td>\n",
       "      <td>5.090226</td>\n",
       "      <td>2.785046</td>\n",
       "      <td>13.194086</td>\n",
       "    </tr>\n",
       "    <tr>\n",
       "      <td>50%</td>\n",
       "      <td>5.374745</td>\n",
       "      <td>3.066174</td>\n",
       "      <td>14.901772</td>\n",
       "    </tr>\n",
       "    <tr>\n",
       "      <td>75%</td>\n",
       "      <td>5.694541</td>\n",
       "      <td>3.433357</td>\n",
       "      <td>16.805146</td>\n",
       "    </tr>\n",
       "    <tr>\n",
       "      <td>max</td>\n",
       "      <td>6.112050</td>\n",
       "      <td>3.840676</td>\n",
       "      <td>18.846533</td>\n",
       "    </tr>\n",
       "  </tbody>\n",
       "</table>\n",
       "</div>"
      ],
      "text/plain": [
       "            resMRI1       resMRI2       resMRI3\n",
       "count  70336.000000  70336.000000  70336.000000\n",
       "mean       5.391402      3.107436     15.002358\n",
       "std        0.355670      0.381714      2.088899\n",
       "min        4.784555      2.517619     11.604862\n",
       "25%        5.090226      2.785046     13.194086\n",
       "50%        5.374745      3.066174     14.901772\n",
       "75%        5.694541      3.433357     16.805146\n",
       "max        6.112050      3.840676     18.846533"
      ]
     },
     "execution_count": 58,
     "metadata": {},
     "output_type": "execute_result"
    }
   ],
   "source": [
    "mri.describe()"
   ]
  },
  {
   "cell_type": "code",
   "execution_count": 59,
   "metadata": {},
   "outputs": [],
   "source": [
    "resMRI1 = mri.resMRI1\n",
    "resMRI2 = mri.resMRI2\n",
    "resMRI3 = mri.resMRI3"
   ]
  },
  {
   "cell_type": "code",
   "execution_count": 60,
   "metadata": {},
   "outputs": [
    {
     "data": {
      "image/png": "[encoded data removed]",
      "text/plain": [
       "<Figure size 432x288 with 1 Axes>"
      ]
     },
     "metadata": {
      "needs_background": "light"
     },
     "output_type": "display_data"
    },
    {
     "data": {
      "image/png": "[encoded data removed]",
      "text/plain": [
       "<Figure size 432x288 with 1 Axes>"
      ]
     },
     "metadata": {
      "needs_background": "light"
     },
     "output_type": "display_data"
    },
    {
     "data": {
      "image/png": "[encoded data removed]",
      "text/plain": [
       "<Figure size 432x288 with 1 Axes>"
      ]
     },
     "metadata": {
      "needs_background": "light"
     },
     "output_type": "display_data"
    }
   ],
   "source": [
    "fig = plt.figure()\n",
    "plt.hist(resMRI1, bins=20)\n",
    "#plt.gca().set_xscale('log')\n",
    "plt.show()\n",
    "plt.close()\n",
    "\n",
    "fig = plt.figure()\n",
    "plt.hist(resMRI2, bins=20)\n",
    "#plt.gca().set_xscale('log')\n",
    "plt.show()\n",
    "plt.close()\n",
    "\n",
    "fig = plt.figure()\n",
    "plt.hist(resMRI3, bins=20)\n",
    "#plt.gca().set_xscale('log')\n",
    "plt.show()\n",
    "plt.close()"
   ]
  },
  {
   "cell_type": "code",
   "execution_count": null,
   "metadata": {},
   "outputs": [],
   "source": []
  }
 ],
 "metadata": {
  "kernelspec": {
   "display_name": "Python 3",
   "language": "python",
   "name": "python3"
  },
  "language_info": {
   "codemirror_mode": {
    "name": "ipython",
    "version": 3
   },
   "file_extension": ".py",
   "mimetype": "text/x-python",
   "name": "python",
   "nbconvert_exporter": "python",
   "pygments_lexer": "ipython3",
   "version": "3.7.1"
  }
 },
 "nbformat": 4,
 "nbformat_minor": 4
}
